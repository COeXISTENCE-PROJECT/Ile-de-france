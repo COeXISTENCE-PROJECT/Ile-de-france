{
 "cells": [
  {
   "cell_type": "code",
   "execution_count": 1,
   "id": "08f91cda",
   "metadata": {},
   "outputs": [],
   "source": [
    "import os\n",
    "import pandas as pd\n",
    "import json"
   ]
  },
  {
   "cell_type": "code",
   "execution_count": 2,
   "id": "2d734472",
   "metadata": {},
   "outputs": [],
   "source": [
    "min_start_time = 9 * 3600\n",
    "max_start_time = 10 * 3600"
   ]
  },
  {
   "cell_type": "code",
   "execution_count": 3,
   "id": "fe23238c",
   "metadata": {},
   "outputs": [
    {
     "name": "stdout",
     "output_type": "stream",
     "text": [
      "['region_1_inner.csv', 'region_2_inner.csv', 'region_3_inner.csv', 'region_4_inner.csv', 'region_5_inner.csv', 'region_6_inner.csv', 'region_7_inner.csv', 'region_8_inner.csv', 'region_9_inner.csv', 'region_11_inner.csv', 'region_12_inner.csv', 'region_13_inner.csv', 'region_14_inner.csv', 'region_15_inner.csv', 'region_16_inner.csv', 'region_17_inner.csv', 'region_18_inner.csv', 'region_19_inner.csv', 'region_20_inner.csv', 'region_21_inner.csv', 'region_22_inner.csv', 'region_23_inner.csv', 'region_24_inner.csv', 'region_25_inner.csv', 'region_26_inner.csv', 'region_27_inner.csv', 'region_29_inner.csv', 'region_30_inner.csv']\n"
     ]
    }
   ],
   "source": [
    "# get all filenames in current dir\n",
    "files = os.listdir('.')\n",
    "# filter for .csv files\n",
    "files = [f for f in files if f.endswith('.csv')]\n",
    "files.sort(key=lambda x: int(x.split('_')[1].split('.')[0]))\n",
    "print(files)"
   ]
  },
  {
   "cell_type": "code",
   "execution_count": 4,
   "id": "9772dad3",
   "metadata": {},
   "outputs": [],
   "source": [
    "name_mapping = json.load(open('../region_name_mapping.json'))\n",
    "region_name_keys = {filename: filename.split('_')[:2] for filename in files}\n",
    "region_name_keys = {k : v[0] + \"_\" + v[1] for k, v in region_name_keys.items()}"
   ]
  },
  {
   "cell_type": "code",
   "execution_count": 5,
   "id": "e48742b0",
   "metadata": {},
   "outputs": [
    {
     "name": "stdout",
     "output_type": "stream",
     "text": [
      "region_1_inner.csv (mantes_la_jolie) has 146725 rows, filtered: 8574 rows\n",
      "region_2_inner.csv (rambouillet) has 48365 rows, filtered: 3083 rows\n",
      "region_3_inner.csv (saint_arnoult) has 7296 rows, filtered: 510 rows\n",
      "region_4_inner.csv (etampes) has 44752 rows, filtered: 2625 rows\n",
      "region_5_inner.csv (souppes_sur_loing) has 7612 rows, filtered: 472 rows\n",
      "region_6_inner.csv (nemours) has 31767 rows, filtered: 1733 rows\n",
      "region_7_inner.csv (fontainebleau) has 44946 rows, filtered: 2943 rows\n",
      "region_8_inner.csv (montereau_fault_yonne) has 33109 rows, filtered: 1690 rows\n",
      "region_9_inner.csv (nangis) has 13523 rows, filtered: 753 rows\n",
      "region_11_inner.csv (provins) has 20098 rows, filtered: 1117 rows\n",
      "region_12_inner.csv (coulommiers) has 22393 rows, filtered: 1252 rows\n",
      "region_13_inner.csv (meaux) has 103401 rows, filtered: 5720 rows\n",
      "region_14_inner.csv (la_ferte) has 11484 rows, filtered: 673 rows\n",
      "region_15_inner.csv (othis) has 36798 rows, filtered: 1920 rows\n",
      "region_16_inner.csv (maule) has 7056 rows, filtered: 442 rows\n",
      "region_17_inner.csv (beynes) has 8091 rows, filtered: 480 rows\n",
      "region_18_inner.csv (parmain) has 25281 rows, filtered: 1511 rows\n",
      "region_19_inner.csv (gargenville) has 34948 rows, filtered: 2037 rows\n",
      "region_20_inner.csv (melun) has 172643 rows, filtered: 9211 rows\n",
      "region_21_inner.csv (ozoir_la_ferriere) has 26301 rows, filtered: 1566 rows\n",
      "region_22_inner.csv (gretz_armainvilliers) has 24825 rows, filtered: 1414 rows\n",
      "region_23_inner.csv (la_verriere) has 118455 rows, filtered: 7188 rows\n",
      "region_24_inner.csv (guyancourt) has 82025 rows, filtered: 4600 rows\n",
      "region_25_inner.csv (plaisir) has 62555 rows, filtered: 3906 rows\n",
      "region_26_inner.csv (bussy_saint_georges) has 32052 rows, filtered: 1565 rows\n",
      "region_27_inner.csv (fontenay_en_parisis) has 74702 rows, filtered: 4165 rows\n",
      "region_29_inner.csv (les_mureaux) has 79684 rows, filtered: 4507 rows\n",
      "region_30_inner.csv (buc) has 239990 rows, filtered: 14278 rows\n"
     ]
    }
   ],
   "source": [
    "num_rows = list()\n",
    "num_filtered_rows = list()\n",
    "for f in files:\n",
    "    df = pd.read_csv(f)\n",
    "    filtered_df = df[(df['departure_time'] >= min_start_time) & (df['departure_time'] <= max_start_time)]\n",
    "    print(f\"{f} ({name_mapping[region_name_keys[f]]}) has {len(df)} rows, filtered: {len(filtered_df)} rows\")\n",
    "    num_rows.append(len(df))\n",
    "    num_filtered_rows.append(len(filtered_df))"
   ]
  },
  {
   "cell_type": "code",
   "execution_count": 6,
   "id": "65b45e2c",
   "metadata": {},
   "outputs": [
    {
     "name": "stdout",
     "output_type": "stream",
     "text": [
      "7056\n",
      "239990\n",
      "55745.607142857145\n"
     ]
    }
   ],
   "source": [
    "print(min(num_rows))\n",
    "print(max(num_rows))\n",
    "print(sum(num_rows) / len(num_rows))"
   ]
  },
  {
   "cell_type": "code",
   "execution_count": 7,
   "id": "09f251fe",
   "metadata": {},
   "outputs": [
    {
     "name": "stdout",
     "output_type": "stream",
     "text": [
      "442\n",
      "14278\n",
      "3211.964285714286\n"
     ]
    }
   ],
   "source": [
    "print(min(num_filtered_rows))\n",
    "print(max(num_filtered_rows))\n",
    "print(sum(num_filtered_rows) / len(num_filtered_rows))"
   ]
  }
 ],
 "metadata": {
  "kernelspec": {
   "display_name": "venv",
   "language": "python",
   "name": "python3"
  },
  "language_info": {
   "codemirror_mode": {
    "name": "ipython",
    "version": 3
   },
   "file_extension": ".py",
   "mimetype": "text/x-python",
   "name": "python",
   "nbconvert_exporter": "python",
   "pygments_lexer": "ipython3",
   "version": "3.9.6"
  }
 },
 "nbformat": 4,
 "nbformat_minor": 5
}
